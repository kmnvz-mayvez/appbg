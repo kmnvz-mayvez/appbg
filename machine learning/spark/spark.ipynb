{
 "cells": [
  {
   "cell_type": "markdown",
   "metadata": {},
   "source": [
    "# SPARK"
   ]
  },
  {
   "cell_type": "code",
   "execution_count": 140,
   "metadata": {},
   "outputs": [],
   "source": [
    "from pyspark.sql import SparkSession\n",
    "from pyspark.sql.functions import col"
   ]
  },
  {
   "cell_type": "code",
   "execution_count": 141,
   "metadata": {},
   "outputs": [],
   "source": [
    "# Inisialisasi sesi Spark\n",
    "spark = SparkSession.builder.appName(\"appbg\").getOrCreate()"
   ]
  },
  {
   "cell_type": "code",
   "execution_count": 142,
   "metadata": {},
   "outputs": [
    {
     "data": {
      "text/html": [
       "\n",
       "            <div>\n",
       "                <p><b>SparkSession - in-memory</b></p>\n",
       "                \n",
       "        <div>\n",
       "            <p><b>SparkContext</b></p>\n",
       "\n",
       "            <p><a href=\"http://MSI:4040\">Spark UI</a></p>\n",
       "\n",
       "            <dl>\n",
       "              <dt>Version</dt>\n",
       "                <dd><code>v3.5.1</code></dd>\n",
       "              <dt>Master</dt>\n",
       "                <dd><code>local[*]</code></dd>\n",
       "              <dt>AppName</dt>\n",
       "                <dd><code>merge</code></dd>\n",
       "            </dl>\n",
       "        </div>\n",
       "        \n",
       "            </div>\n",
       "        "
      ],
      "text/plain": [
       "<pyspark.sql.session.SparkSession at 0x2dbf278ab50>"
      ]
     },
     "execution_count": 142,
     "metadata": {},
     "output_type": "execute_result"
    }
   ],
   "source": [
    "spark"
   ]
  },
  {
   "cell_type": "markdown",
   "metadata": {},
   "source": [
    "### Merge Data"
   ]
  },
  {
   "cell_type": "code",
   "execution_count": 143,
   "metadata": {},
   "outputs": [],
   "source": [
    "# Baca file CSV pertama (data-user.csv)\n",
    "df_user = spark.read.csv(\"file:///APPBG/data-user.csv\", header=True, inferSchema=True)\n",
    "\n",
    "# Baca file CSV kedua (plat.csv)\n",
    "df_plat = spark.read.csv(\"file:///APPBG/plat.csv\", header=True, inferSchema=True)"
   ]
  },
  {
   "cell_type": "code",
   "execution_count": 144,
   "metadata": {},
   "outputs": [],
   "source": [
    "df_user = df_user.withColumnRenamed(\"_id\", \"id\")\n",
    "df_user = df_user.withColumnRenamed(\"plateNumber\", \"plate\")"
   ]
  },
  {
   "cell_type": "code",
   "execution_count": 145,
   "metadata": {},
   "outputs": [
    {
     "name": "stdout",
     "output_type": "stream",
     "text": [
      "+--------------------+------------+--------------------+--------------------+--------+-----+--------+--------------------+--------------------+\n",
      "|                  id|    username|               email|      profilePicture|hourStay| cost|   plate|         phoneNumber|           createdAt|\n",
      "+--------------------+------------+--------------------+--------------------+--------+-----+--------+--------------------+--------------------+\n",
      "|6640195b43df89dc0...|Well-placeda|bernita99@hotmail...|https://picsum.ph...|       4|20000|B4W3T9S1| (861) 213-9322 x777|2024-05-12 01:20:...|\n",
      "|6640195b43df89dc0...|Duskysuperhi|felicita42@yahoo.com|https://picsum.ph...|       7|35000|B8C2X4V5|        794-485-6055|2024-05-12 01:20:...|\n",
      "|6640195c43df89dc0...|Rapidspatula|macie.kemmer29@ya...|https://picsum.ph...|       2|10000|B7J8Z5T2| 1-700-810-0785 x142|2024-05-12 01:20:...|\n",
      "|6640195c43df89dc0...|Riotousgamet|cordia30@hotmail.com|https://picsum.ph...|       4|20000|B6J1W4T9|      (287) 811-3914|2024-05-12 01:20:...|\n",
      "|6640195c43df89dc0...|Crudeclipper|cassidy85@hotmail...|https://picsum.ph...|       4|20000|B7W9N3T2| 748-451-3798 x47215|2024-05-12 01:20:...|\n",
      "|6640195c43df89dc0...|Rampantexult|beverly.koss@gmai...|https://picsum.ph...|      10|50000|B4B7X2J6|      (482) 650-7566|2024-05-12 01:20:...|\n",
      "|6640195c43df89dc0...|Blue-collarb|  jeromy64@gmail.com|https://picsum.ph...|       9|45000|B4K7N9W3|(634) 687-0653 x9...|2024-05-12 01:20:...|\n",
      "|6640195d43df89dc0...|Legislativec|brisa.mills@yahoo...|https://picsum.ph...|      10|50000|B6F3P1R8| 1-423-576-0865 x422|2024-05-12 01:20:...|\n",
      "|6640195d43df89dc0...|Cantankerous|connie_bogisich32...|https://picsum.ph...|       2|10000|B6J8H3R1|1-446-867-7783 x8...|2024-05-12 01:20:...|\n",
      "|6640195d43df89dc0...|Philosophica|jimmy.friesen@yah...|https://picsum.ph...|       4|20000|B1N3U8M5|(262) 838-4234 x0174|2024-05-12 01:20:...|\n",
      "|6640195e43df89dc0...|Wastefulcomm|johann_hudson17@y...|https://picsum.ph...|       1| 5000|B3O23KEZ|      (614) 385-0111|2024-05-12 01:20:...|\n",
      "|6640195f43df89dc0...|Beadedpotenc|marianne.pollich@...|https://picsum.ph...|      10|50000|B9R7T4P1|(438) 468-2369 x7...|2024-05-12 01:20:...|\n",
      "|6640195f43df89dc0...|Bilateralold|      roy1@gmail.com|https://picsum.ph...|      10|50000|B3E8H1T6|        923-612-5241|2024-05-12 01:20:...|\n",
      "|6640195f43df89dc0...|Unavoidablep|deonte_langosh@ya...|https://picsum.ph...|      10|50000|B1R8N3X2|  828.841.8875 x9001|2024-05-12 01:20:...|\n",
      "|6640195f43df89dc0...|Intestinalsc|krystina.ortiz@gm...|https://picsum.ph...|       6|30000|B5H1W3Z9|  437.853.3909 x2184|2024-05-12 01:20:...|\n",
      "|6640195f43df89dc0...|Post-worldol|alex_gutmann96@ho...|https://picsum.ph...|       2|10000|B2X4V5T8|   789.566.7403 x194|2024-05-12 01:20:...|\n",
      "|6640195f43df89dc0...|Inwardcontra|bobby_tremblay@ya...|https://picsum.ph...|       3|15000|B4K7N9W3| 256-292-5765 x35970|2024-05-12 01:20:...|\n",
      "|6640196043df89dc0...|Autocraticdi|rhett_simonis@gma...|https://picsum.ph...|       9|45000|B3P5U9K7|      1-317-412-2418|2024-05-12 01:20:...|\n",
      "|6640196043df89dc0...|Governinggua|  donald82@gmail.com|https://picsum.ph...|       2|10000|B2R7W9J4| 1-784-345-2043 x757|2024-05-12 01:20:...|\n",
      "|6640196043df89dc0...|Afiretension|  kellie20@yahoo.com|https://picsum.ph...|       5|25000|B5M2W3C9|      (259) 349-0025|2024-05-12 01:20:...|\n",
      "+--------------------+------------+--------------------+--------------------+--------+-----+--------+--------------------+--------------------+\n",
      "only showing top 20 rows\n",
      "\n"
     ]
    }
   ],
   "source": [
    "df_user.show()"
   ]
  },
  {
   "cell_type": "code",
   "execution_count": 146,
   "metadata": {},
   "outputs": [
    {
     "name": "stdout",
     "output_type": "stream",
     "text": [
      "+---+--------+----------+\n",
      "| id|   plate|    source|\n",
      "+---+--------+----------+\n",
      "|  1|B3O23KEZ|motorcycle|\n",
      "|  2|B3A4R5U2|motorcycle|\n",
      "|  3|B8C2X4V5|motorcycle|\n",
      "|  4|B1M3U8R7|motorcycle|\n",
      "|  5|B5M2W3C9|motorcycle|\n",
      "|  6|B7Y4V3K9|motorcycle|\n",
      "|  7|B1F9X7Z4|motorcycle|\n",
      "|  8|B3E8H1T6|motorcycle|\n",
      "|  9|B2N7Y9U6|motorcycle|\n",
      "| 10|B4B7X8D5|motorcycle|\n",
      "| 11|B1N3P8V7|motorcycle|\n",
      "| 12|B8G2S5U6|motorcycle|\n",
      "| 13|B2G6K4X8|motorcycle|\n",
      "| 14|B4F7J1X3|motorcycle|\n",
      "| 15|B6P2Z4U1|motorcycle|\n",
      "| 16|B5F2J9X6|motorcycle|\n",
      "| 17|B8N1X3P2|motorcycle|\n",
      "| 18|B9C4X5V1|motorcycle|\n",
      "| 19|B3S8Z2U4|motorcycle|\n",
      "| 20|B5E2H8V1|motorcycle|\n",
      "+---+--------+----------+\n",
      "only showing top 20 rows\n",
      "\n"
     ]
    }
   ],
   "source": [
    "df_plat.show()"
   ]
  },
  {
   "cell_type": "code",
   "execution_count": 147,
   "metadata": {},
   "outputs": [],
   "source": [
    "df_merge = df_user.join(df_plat, \"plate\")"
   ]
  },
  {
   "cell_type": "code",
   "execution_count": 148,
   "metadata": {},
   "outputs": [
    {
     "name": "stdout",
     "output_type": "stream",
     "text": [
      "+--------+--------------------+------------+--------------------+--------------------+--------+-----+--------------------+--------------------+---+----------+\n",
      "|   plate|                  id|    username|               email|      profilePicture|hourStay| cost|         phoneNumber|           createdAt| id|    source|\n",
      "+--------+--------------------+------------+--------------------+--------------------+--------+-----+--------------------+--------------------+---+----------+\n",
      "|B4W3T9S1|6640195b43df89dc0...|Well-placeda|bernita99@hotmail...|https://picsum.ph...|       4|20000| (861) 213-9322 x777|2024-05-12 01:20:...| 23|motorcycle|\n",
      "|B8C2X4V5|6640195b43df89dc0...|Duskysuperhi|felicita42@yahoo.com|https://picsum.ph...|       7|35000|        794-485-6055|2024-05-12 01:20:...|  3|motorcycle|\n",
      "|B7J8Z5T2|6640195c43df89dc0...|Rapidspatula|macie.kemmer29@ya...|https://picsum.ph...|       2|10000| 1-700-810-0785 x142|2024-05-12 01:20:...| 39|motorcycle|\n",
      "|B6J1W4T9|6640195c43df89dc0...|Riotousgamet|cordia30@hotmail.com|https://picsum.ph...|       4|20000|      (287) 811-3914|2024-05-12 01:20:...| 62|motorcycle|\n",
      "|B7W9N3T2|6640195c43df89dc0...|Crudeclipper|cassidy85@hotmail...|https://picsum.ph...|       4|20000| 748-451-3798 x47215|2024-05-12 01:20:...| 70|motorcycle|\n",
      "|B4B7X2J6|6640195c43df89dc0...|Rampantexult|beverly.koss@gmai...|https://picsum.ph...|      10|50000|      (482) 650-7566|2024-05-12 01:20:...| 80|motorcycle|\n",
      "|B4K7N9W3|6640195c43df89dc0...|Blue-collarb|  jeromy64@gmail.com|https://picsum.ph...|       9|45000|(634) 687-0653 x9...|2024-05-12 01:20:...| 94|motorcycle|\n",
      "|B6F3P1R8|6640195d43df89dc0...|Legislativec|brisa.mills@yahoo...|https://picsum.ph...|      10|50000| 1-423-576-0865 x422|2024-05-12 01:20:...| 73|motorcycle|\n",
      "|B6J8H3R1|6640195d43df89dc0...|Cantankerous|connie_bogisich32...|https://picsum.ph...|       2|10000|1-446-867-7783 x8...|2024-05-12 01:20:...| 98|motorcycle|\n",
      "|B1N3U8M5|6640195d43df89dc0...|Philosophica|jimmy.friesen@yah...|https://picsum.ph...|       4|20000|(262) 838-4234 x0174|2024-05-12 01:20:...| 85|motorcycle|\n",
      "|B3O23KEZ|6640195e43df89dc0...|Wastefulcomm|johann_hudson17@y...|https://picsum.ph...|       1| 5000|      (614) 385-0111|2024-05-12 01:20:...|  1|motorcycle|\n",
      "|B9R7T4P1|6640195f43df89dc0...|Beadedpotenc|marianne.pollich@...|https://picsum.ph...|      10|50000|(438) 468-2369 x7...|2024-05-12 01:20:...| 92|motorcycle|\n",
      "|B3E8H1T6|6640195f43df89dc0...|Bilateralold|      roy1@gmail.com|https://picsum.ph...|      10|50000|        923-612-5241|2024-05-12 01:20:...|  8|motorcycle|\n",
      "|B1R8N3X2|6640195f43df89dc0...|Unavoidablep|deonte_langosh@ya...|https://picsum.ph...|      10|50000|  828.841.8875 x9001|2024-05-12 01:20:...| 56|motorcycle|\n",
      "|B5H1W3Z9|6640195f43df89dc0...|Intestinalsc|krystina.ortiz@gm...|https://picsum.ph...|       6|30000|  437.853.3909 x2184|2024-05-12 01:20:...| 50|motorcycle|\n",
      "|B2X4V5T8|6640195f43df89dc0...|Post-worldol|alex_gutmann96@ho...|https://picsum.ph...|       2|10000|   789.566.7403 x194|2024-05-12 01:20:...| 90|motorcycle|\n",
      "|B4K7N9W3|6640195f43df89dc0...|Inwardcontra|bobby_tremblay@ya...|https://picsum.ph...|       3|15000| 256-292-5765 x35970|2024-05-12 01:20:...| 94|motorcycle|\n",
      "|B3P5U9K7|6640196043df89dc0...|Autocraticdi|rhett_simonis@gma...|https://picsum.ph...|       9|45000|      1-317-412-2418|2024-05-12 01:20:...| 69|motorcycle|\n",
      "|B2R7W9J4|6640196043df89dc0...|Governinggua|  donald82@gmail.com|https://picsum.ph...|       2|10000| 1-784-345-2043 x757|2024-05-12 01:20:...| 76|motorcycle|\n",
      "|B5M2W3C9|6640196043df89dc0...|Afiretension|  kellie20@yahoo.com|https://picsum.ph...|       5|25000|      (259) 349-0025|2024-05-12 01:20:...|  5|motorcycle|\n",
      "+--------+--------------------+------------+--------------------+--------------------+--------+-----+--------------------+--------------------+---+----------+\n",
      "only showing top 20 rows\n",
      "\n"
     ]
    }
   ],
   "source": [
    "df_merge.show()"
   ]
  },
  {
   "cell_type": "markdown",
   "metadata": {},
   "source": [
    "### Machine learning"
   ]
  },
  {
   "cell_type": "code",
   "execution_count": 149,
   "metadata": {},
   "outputs": [],
   "source": [
    "from pyspark.ml.feature import VectorAssembler\n",
    "from pyspark.ml.regression import LinearRegression\n",
    "from pyspark.ml.evaluation import RegressionEvaluator"
   ]
  },
  {
   "cell_type": "code",
   "execution_count": 150,
   "metadata": {},
   "outputs": [],
   "source": [
    "# Membuat vektor fitur\n",
    "assembler = VectorAssembler(inputCols=[\"hourStay\"], outputCol=\"features\")\n",
    "df_merge = assembler.transform(df_merge)"
   ]
  },
  {
   "cell_type": "code",
   "execution_count": 151,
   "metadata": {},
   "outputs": [],
   "source": [
    "# Bagi data menjadi set pelatihan dan set pengujian\n",
    "(train_data, test_data) = df_merge.randomSplit([0.8, 0.2], seed=42)"
   ]
  },
  {
   "cell_type": "code",
   "execution_count": 152,
   "metadata": {},
   "outputs": [],
   "source": [
    "# Inisialisasi model Regresi Linear\n",
    "lr = LinearRegression(featuresCol=\"features\", labelCol=\"cost\")"
   ]
  },
  {
   "cell_type": "code",
   "execution_count": 153,
   "metadata": {},
   "outputs": [],
   "source": [
    "# Latih model\n",
    "lr_model = lr.fit(train_data)"
   ]
  },
  {
   "cell_type": "code",
   "execution_count": 154,
   "metadata": {},
   "outputs": [],
   "source": [
    "# Prediksi pada set pengujian\n",
    "predictions = lr_model.transform(test_data)"
   ]
  },
  {
   "cell_type": "code",
   "execution_count": 155,
   "metadata": {},
   "outputs": [
    {
     "name": "stdout",
     "output_type": "stream",
     "text": [
      "Mean Squared Error: 5.307742263881927e-22\n"
     ]
    }
   ],
   "source": [
    "# Evaluasi model menggunakan Mean Squared Error\n",
    "evaluator = RegressionEvaluator(labelCol=\"cost\", predictionCol=\"prediction\", metricName=\"mse\")\n",
    "mse = evaluator.evaluate(predictions)\n",
    "print(f\"Mean Squared Error: {mse}\")"
   ]
  },
  {
   "cell_type": "markdown",
   "metadata": {},
   "source": [
    "### TEST"
   ]
  },
  {
   "cell_type": "code",
   "execution_count": 156,
   "metadata": {},
   "outputs": [
    {
     "name": "stdout",
     "output_type": "stream",
     "text": [
      "+--------+--------+-----+------------------+\n",
      "|   plate|hourStay| cost|        prediction|\n",
      "+--------+--------+-----+------------------+\n",
      "|B1H9V5R8|       3|15000| 14999.99999999998|\n",
      "|B1S5R2M9|       3|15000| 14999.99999999998|\n",
      "|B1S8U5R4|      10|50000| 50000.00000000004|\n",
      "|B2R7W9J4|       2|10000|  9999.99999999997|\n",
      "|B2Z8R5V7|       1| 5000| 4999.999999999963|\n",
      "|B3K5H8Z7|       6|30000|30000.000000000007|\n",
      "|B4B7X2J6|      10|50000| 50000.00000000004|\n",
      "|B4K7N1S8|       7|35000|35000.000000000015|\n",
      "|B5F2J9X6|       7|35000|35000.000000000015|\n",
      "|B5F3V2M8|       6|30000|30000.000000000007|\n",
      "|B5H1W3Z9|       6|30000|30000.000000000007|\n",
      "|B5M2W3C9|       5|25000|24999.999999999996|\n",
      "|B5Z3X6J4|       7|35000|35000.000000000015|\n",
      "|B6F3C8S1|       9|45000| 45000.00000000003|\n",
      "|B6P2Z4U1|       3|15000| 14999.99999999998|\n",
      "|B6X2R9C1|       1| 5000| 4999.999999999963|\n",
      "|B8F3Z9W7|       7|35000|35000.000000000015|\n",
      "|B9X2N5S1|       7|35000|35000.000000000015|\n",
      "+--------+--------+-----+------------------+\n",
      "\n"
     ]
    }
   ],
   "source": [
    "# Prediksi pada set pengujian\n",
    "predictions = lr_model.transform(test_data)\n",
    "\n",
    "# Menyimpan hasil prediksi ke dalam DataFrame baru\n",
    "predictions_df = predictions.select(\"plate\", \"hourStay\", \"cost\", \"prediction\")\n",
    "\n",
    "# Menampilkan hasil prediksi\n",
    "predictions_df.show()\n"
   ]
  }
 ],
 "metadata": {
  "kernelspec": {
   "display_name": "my_env",
   "language": "python",
   "name": "python3"
  },
  "language_info": {
   "codemirror_mode": {
    "name": "ipython",
    "version": 3
   },
   "file_extension": ".py",
   "mimetype": "text/x-python",
   "name": "python",
   "nbconvert_exporter": "python",
   "pygments_lexer": "ipython3",
   "version": "3.9.18"
  }
 },
 "nbformat": 4,
 "nbformat_minor": 2
}
