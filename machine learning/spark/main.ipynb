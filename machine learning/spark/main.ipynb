{
 "cells": [
  {
   "cell_type": "markdown",
   "metadata": {},
   "source": [
    "## PYSPARK"
   ]
  },
  {
   "cell_type": "markdown",
   "metadata": {},
   "source": [
    "### IMPORT LIBRARY FROM PYSPARK "
   ]
  },
  {
   "cell_type": "code",
   "execution_count": 247,
   "metadata": {},
   "outputs": [],
   "source": [
    "from pyspark.sql import SparkSession\n",
    "from pyspark.sql.functions import date_format\n",
    "from pyspark.sql.functions import col\n",
    "from pyspark.sql import functions as F\n",
    "from tabulate import tabulate"
   ]
  },
  {
   "cell_type": "markdown",
   "metadata": {},
   "source": [
    "### INIT SESSION SPARK "
   ]
  },
  {
   "cell_type": "code",
   "execution_count": 248,
   "metadata": {},
   "outputs": [],
   "source": [
    "# Inisialisasi sesi Spark\n",
    "spark = SparkSession.builder.appName(\"appbg\").getOrCreate()"
   ]
  },
  {
   "cell_type": "code",
   "execution_count": 249,
   "metadata": {},
   "outputs": [
    {
     "data": {
      "text/html": [
       "\n",
       "            <div>\n",
       "                <p><b>SparkSession - in-memory</b></p>\n",
       "                \n",
       "        <div>\n",
       "            <p><b>SparkContext</b></p>\n",
       "\n",
       "            <p><a href=\"http://host.docker.internal:4040\">Spark UI</a></p>\n",
       "\n",
       "            <dl>\n",
       "              <dt>Version</dt>\n",
       "                <dd><code>v3.5.1</code></dd>\n",
       "              <dt>Master</dt>\n",
       "                <dd><code>local[*]</code></dd>\n",
       "              <dt>AppName</dt>\n",
       "                <dd><code>appbg</code></dd>\n",
       "            </dl>\n",
       "        </div>\n",
       "        \n",
       "            </div>\n",
       "        "
      ],
      "text/plain": [
       "<pyspark.sql.session.SparkSession at 0x1d975ab5220>"
      ]
     },
     "execution_count": 249,
     "metadata": {},
     "output_type": "execute_result"
    }
   ],
   "source": [
    "spark"
   ]
  },
  {
   "cell_type": "markdown",
   "metadata": {},
   "source": [
    "### Merge Data"
   ]
  },
  {
   "cell_type": "code",
   "execution_count": 250,
   "metadata": {},
   "outputs": [],
   "source": [
    "# Baca file CSV pertama (data-user.csv)\n",
    "df_user = spark.read.csv(\"file:///_script\\_csv\\data-user.csv\", header=True, inferSchema=True)\n",
    "\n",
    "# Baca file CSV kedua (plat.csv)\n",
    "df_plat = spark.read.csv(\"file:///_script\\_csv\\combined-plate.csv\", header=True, inferSchema=True)"
   ]
  },
  {
   "cell_type": "markdown",
   "metadata": {},
   "source": [
    "##### Cleansing"
   ]
  },
  {
   "cell_type": "code",
   "execution_count": 251,
   "metadata": {},
   "outputs": [],
   "source": [
    "df_user = df_user.withColumnRenamed(\"_id\", \"id\")\n",
    "df_user = df_user.withColumnRenamed(\"plateNumber\", \"plate\")\n",
    "\n",
    "df_plat = df_plat.withColumnRenamed(\"_id\", \"id\")"
   ]
  },
  {
   "cell_type": "code",
   "execution_count": 252,
   "metadata": {},
   "outputs": [
    {
     "name": "stdout",
     "output_type": "stream",
     "text": [
      "+--------------------+------------+--------------------+--------------------+--------+-----+--------+--------------------+--------------------+\n",
      "|                  id|    username|               email|      profilePicture|hourStay| cost|   plate|         phoneNumber|           createdAt|\n",
      "+--------------------+------------+--------------------+--------------------+--------+-----+--------+--------------------+--------------------+\n",
      "|6649ae85d0125561e...|Unnecessarya|mafalda.baumbach@...|https://picsum.ph...|       1| 5000|B3C5V7SA|1-320-682-2369 x0658|2024-05-19 07:47:...|\n",
      "|6649ae85d0125561e...|Paintedstriv|antoinette_oconne...|https://picsum.ph...|       3|15000|B5P9V2NC|   609-371-0711 x417|2024-05-19 07:47:...|\n",
      "|6649ae85d0125561e...|Elongatedfli|jazmin.hintz@hotm...|https://picsum.ph...|      10|50000|B9X4P1NF|1-479-624-3676 x6...|2024-05-19 07:47:...|\n",
      "|6649ae86d0125561e...|   Milkyomen|karson.mccullough...|https://picsum.ph...|       3|15000|B3C5V7SA| 1-318-806-0229 x693|2024-05-19 07:47:...|\n",
      "|6649ae86d0125561e...|Twentieth-ce|rashad.herman@gma...|https://picsum.ph...|       6|30000|B1H9V5RH| 703-974-5595 x75761|2024-05-19 07:47:...|\n",
      "+--------------------+------------+--------------------+--------------------+--------+-----+--------+--------------------+--------------------+\n",
      "only showing top 5 rows\n",
      "\n"
     ]
    }
   ],
   "source": [
    "df_user.show(5)"
   ]
  },
  {
   "cell_type": "code",
   "execution_count": 253,
   "metadata": {},
   "outputs": [
    {
     "name": "stdout",
     "output_type": "stream",
     "text": [
      "+--------------------+--------+------+----------+----+\n",
      "|                  id|   plate|source|last_digit|type|\n",
      "+--------------------+--------+------+----------+----+\n",
      "|6649a87e4817b6fcf...|B8C2X4VE|   car|         4|even|\n",
      "|6649a87e4817b6fcf...|B1M3U8RG|   car|         8|even|\n",
      "|6649a87e4817b6fcf...|B4B7X8DE|   car|         8|even|\n",
      "|6649a87e4817b6fcf...|B1N3P8VG|   car|         8|even|\n",
      "|6649a87e4817b6fcf...|B2G6K4XH|   car|         4|even|\n",
      "+--------------------+--------+------+----------+----+\n",
      "only showing top 5 rows\n",
      "\n"
     ]
    }
   ],
   "source": [
    "df_plat.show(5)"
   ]
  },
  {
   "cell_type": "code",
   "execution_count": 254,
   "metadata": {},
   "outputs": [],
   "source": [
    "df_merge = df_plat.join(df_user, \"plate\")"
   ]
  },
  {
   "cell_type": "code",
   "execution_count": 255,
   "metadata": {},
   "outputs": [
    {
     "name": "stdout",
     "output_type": "stream",
     "text": [
      "+--------+--------------------+------+----------+----+--------------------+------------+--------------------+--------------------+--------+-----+--------------------+--------------------+\n",
      "|   plate|                  id|source|last_digit|type|                  id|    username|               email|      profilePicture|hourStay| cost|         phoneNumber|           createdAt|\n",
      "+--------+--------------------+------+----------+----+--------------------+------------+--------------------+--------------------+--------+-----+--------------------+--------------------+\n",
      "|B3C5V7SA|6649a87e4817b6fcf...|   car|         7| odd|6649ae85d0125561e...|Unnecessarya|mafalda.baumbach@...|https://picsum.ph...|       1| 5000|1-320-682-2369 x0658|2024-05-19 07:47:...|\n",
      "|B5P9V2NC|6649a87e4817b6fcf...|   car|         2|even|6649ae85d0125561e...|Paintedstriv|antoinette_oconne...|https://picsum.ph...|       3|15000|   609-371-0711 x417|2024-05-19 07:47:...|\n",
      "|B9X4P1NF|6649a87e4817b6fcf...|   car|         1| odd|6649ae85d0125561e...|Elongatedfli|jazmin.hintz@hotm...|https://picsum.ph...|      10|50000|1-479-624-3676 x6...|2024-05-19 07:47:...|\n",
      "|B3C5V7SA|6649a87e4817b6fcf...|   car|         7| odd|6649ae86d0125561e...|   Milkyomen|karson.mccullough...|https://picsum.ph...|       3|15000| 1-318-806-0229 x693|2024-05-19 07:47:...|\n",
      "|B1H9V5RH|6649a87e4817b6fcf...|   car|         5| odd|6649ae86d0125561e...|Twentieth-ce|rashad.herman@gma...|https://picsum.ph...|       6|30000| 703-974-5595 x75761|2024-05-19 07:47:...|\n",
      "+--------+--------------------+------+----------+----+--------------------+------------+--------------------+--------------------+--------+-----+--------------------+--------------------+\n",
      "only showing top 5 rows\n",
      "\n"
     ]
    }
   ],
   "source": [
    "# Menampilkan hasil data yang sudah di gabungkan \n",
    "df_merge.show(5)"
   ]
  },
  {
   "cell_type": "markdown",
   "metadata": {},
   "source": [
    "##### Mendapatkan insight data"
   ]
  },
  {
   "cell_type": "code",
   "execution_count": 256,
   "metadata": {},
   "outputs": [
    {
     "name": "stdout",
     "output_type": "stream",
     "text": [
      "╒════╤══════════╤══════════════╤════════════╤════════╤═════════════════════╤══════════╤════════╕\n",
      "│    │ plate    │ username     │   hourStay │   cost │ createdAt           │ source   │ type   │\n",
      "╞════╪══════════╪══════════════╪════════════╪════════╪═════════════════════╪══════════╪════════╡\n",
      "│  0 │ B3C5V7SA │ Unnecessarya │          1 │   5000 │ 2024-05-19 07:47:17 │ car      │ odd    │\n",
      "├────┼──────────┼──────────────┼────────────┼────────┼─────────────────────┼──────────┼────────┤\n",
      "│  1 │ B5P9V2NC │ Paintedstriv │          3 │  15000 │ 2024-05-19 07:47:17 │ car      │ even   │\n",
      "├────┼──────────┼──────────────┼────────────┼────────┼─────────────────────┼──────────┼────────┤\n",
      "│  2 │ B9X4P1NF │ Elongatedfli │         10 │  50000 │ 2024-05-19 07:47:17 │ car      │ odd    │\n",
      "├────┼──────────┼──────────────┼────────────┼────────┼─────────────────────┼──────────┼────────┤\n",
      "│  3 │ B3C5V7SA │ Milkyomen    │          3 │  15000 │ 2024-05-19 07:47:17 │ car      │ odd    │\n",
      "├────┼──────────┼──────────────┼────────────┼────────┼─────────────────────┼──────────┼────────┤\n",
      "│  4 │ B1H9V5RH │ Twentieth-ce │          6 │  30000 │ 2024-05-19 07:47:18 │ car      │ odd    │\n",
      "├────┼──────────┼──────────────┼────────────┼────────┼─────────────────────┼──────────┼────────┤\n",
      "│  5 │ B9R7T4PA │ Declaredfing │          9 │  45000 │ 2024-05-19 07:47:18 │ car      │ even   │\n",
      "├────┼──────────┼──────────────┼────────────┼────────┼─────────────────────┼──────────┼────────┤\n",
      "│  6 │ B4J2S7NA │ Municipalapp │          3 │  15000 │ 2024-05-19 07:47:18 │ car      │ odd    │\n",
      "├────┼──────────┼──────────────┼────────────┼────────┼─────────────────────┼──────────┼────────┤\n",
      "│  7 │ B3S8Z2UD │ Obnoxiouscap │          7 │  35000 │ 2024-05-19 07:47:18 │ car      │ even   │\n",
      "├────┼──────────┼──────────────┼────────────┼────────┼─────────────────────┼──────────┼────────┤\n",
      "│  8 │ B6R1T7NE │ Persistentlo │          5 │  25000 │ 2024-05-19 07:47:18 │ car      │ odd    │\n",
      "├────┼──────────┼──────────────┼────────────┼────────┼─────────────────────┼──────────┼────────┤\n",
      "│  9 │ B1M3U8RG │ Prodigioussw │          7 │  35000 │ 2024-05-19 07:47:18 │ car      │ even   │\n",
      "├────┼──────────┼──────────────┼────────────┼────────┼─────────────────────┼──────────┼────────┤\n",
      "│ 10 │ B7U1R8ZA │ Dialecticalc │          6 │  30000 │ 2024-05-19 07:48:07 │ car      │ even   │\n",
      "├────┼──────────┼──────────────┼────────────┼────────┼─────────────────────┼──────────┼────────┤\n",
      "│ 11 │ B8G2S5UF │ Methodologic │          3 │  15000 │ 2024-05-19 07:48:08 │ car      │ odd    │\n",
      "├────┼──────────┼──────────────┼────────────┼────────┼─────────────────────┼──────────┼────────┤\n",
      "│ 12 │ B9X2W7VE │ Thatchedqual │         10 │  50000 │ 2024-05-19 07:48:08 │ car      │ odd    │\n",
      "├────┼──────────┼──────────────┼────────────┼────────┼─────────────────────┼──────────┼────────┤\n",
      "│ 13 │ B5S7U8TB │ Fierydrain   │          4 │  20000 │ 2024-05-19 07:48:08 │ car      │ even   │\n",
      "├────┼──────────┼──────────────┼────────────┼────────┼─────────────────────┼──────────┼────────┤\n",
      "│ 14 │ B2R7W9JD │ Telescopicpu │          9 │  45000 │ 2024-05-19 07:48:08 │ car      │ odd    │\n",
      "├────┼──────────┼──────────────┼────────────┼────────┼─────────────────────┼──────────┼────────┤\n",
      "│ 15 │ B3P9Z1CE │ Disorganized │          9 │  45000 │ 2024-05-19 07:48:08 │ car      │ odd    │\n",
      "├────┼──────────┼──────────────┼────────────┼────────┼─────────────────────┼──────────┼────────┤\n",
      "│ 16 │ B8Z1N4KA │ Continuoussa │          7 │  35000 │ 2024-05-19 07:48:08 │ car      │ even   │\n",
      "├────┼──────────┼──────────────┼────────────┼────────┼─────────────────────┼──────────┼────────┤\n",
      "│ 17 │ B7J8Z5TB │ Martialtempe │          8 │  40000 │ 2024-05-19 07:48:08 │ car      │ odd    │\n",
      "├────┼──────────┼──────────────┼────────────┼────────┼─────────────────────┼──────────┼────────┤\n",
      "│ 18 │ B9C4X5VA │ Appreciative │          6 │  30000 │ 2024-05-19 07:48:09 │ car      │ odd    │\n",
      "├────┼──────────┼──────────────┼────────────┼────────┼─────────────────────┼──────────┼────────┤\n",
      "│ 19 │ B7D1R5PC │ Contagiousna │          9 │  45000 │ 2024-05-19 07:48:09 │ car      │ odd    │\n",
      "├────┼──────────┼──────────────┼────────────┼────────┼─────────────────────┼──────────┼────────┤\n",
      "│ 20 │ B8P5F3TA │ Clinicalrevo │          4 │  20000 │ 2024-05-19 07:48:41 │ car      │ odd    │\n",
      "├────┼──────────┼──────────────┼────────────┼────────┼─────────────────────┼──────────┼────────┤\n",
      "│ 21 │ B1N3U8ME │ Dreamycathou │          7 │  35000 │ 2024-05-19 07:48:41 │ car      │ even   │\n",
      "├────┼──────────┼──────────────┼────────────┼────────┼─────────────────────┼──────────┼────────┤\n",
      "│ 22 │ B6D1J7XI │ Publishednud │         10 │  50000 │ 2024-05-19 07:48:42 │ car      │ odd    │\n",
      "├────┼──────────┼──────────────┼────────────┼────────┼─────────────────────┼──────────┼────────┤\n",
      "│ 23 │ B8Z1N4KA │ Messypress   │          7 │  35000 │ 2024-05-19 07:48:42 │ car      │ even   │\n",
      "├────┼──────────┼──────────────┼────────────┼────────┼─────────────────────┼──────────┼────────┤\n",
      "│ 24 │ B5Z1M7CA │ Astonishedci │          3 │  15000 │ 2024-05-19 07:48:42 │ car      │ odd    │\n",
      "├────┼──────────┼──────────────┼────────────┼────────┼─────────────────────┼──────────┼────────┤\n",
      "│ 25 │ B5H1W3ZI │ Coyreceptor  │          6 │  30000 │ 2024-05-19 07:48:42 │ car      │ odd    │\n",
      "├────┼──────────┼──────────────┼────────────┼────────┼─────────────────────┼──────────┼────────┤\n",
      "│ 26 │ B4F7H1MC │ Swollencampe │          2 │  10000 │ 2024-05-19 07:48:42 │ car      │ odd    │\n",
      "├────┼──────────┼──────────────┼────────────┼────────┼─────────────────────┼──────────┼────────┤\n",
      "│ 27 │ B2X4V5TH │ Disjointedco │          9 │  45000 │ 2024-05-19 07:48:43 │ car      │ odd    │\n",
      "├────┼──────────┼──────────────┼────────────┼────────┼─────────────────────┼──────────┼────────┤\n",
      "│ 28 │ B3C5V7SA │ Duplicatesce │          7 │  35000 │ 2024-05-19 07:48:43 │ car      │ odd    │\n",
      "├────┼──────────┼──────────────┼────────────┼────────┼─────────────────────┼──────────┼────────┤\n",
      "│ 29 │ B3P9Z1CE │ Shimmeringpu │          1 │   5000 │ 2024-05-19 07:48:43 │ car      │ odd    │\n",
      "├────┼──────────┼──────────────┼────────────┼────────┼─────────────────────┼──────────┼────────┤\n",
      "│ 30 │ B2P7U5SA │ Troublingban │          1 │   5000 │ 2024-05-19 07:48:56 │ car      │ odd    │\n",
      "├────┼──────────┼──────────────┼────────────┼────────┼─────────────────────┼──────────┼────────┤\n",
      "│ 31 │ B8N1X3PA │ Ever-increas │          5 │  25000 │ 2024-05-19 07:48:56 │ car      │ odd    │\n",
      "├────┼──────────┼──────────────┼────────────┼────────┼─────────────────────┼──────────┼────────┤\n",
      "│ 32 │ B1S8U5RD │ Violetgenera │          8 │  40000 │ 2024-05-19 07:48:56 │ car      │ odd    │\n",
      "├────┼──────────┼──────────────┼────────────┼────────┼─────────────────────┼──────────┼────────┤\n",
      "│ 33 │ B5S7U8TB │ Derelictcook │          6 │  30000 │ 2024-05-19 07:48:57 │ car      │ even   │\n",
      "├────┼──────────┼──────────────┼────────────┼────────┼─────────────────────┼──────────┼────────┤\n",
      "│ 34 │ B8Z1M3PI │ Decidedcolon │          3 │  15000 │ 2024-05-19 07:48:57 │ car      │ odd    │\n",
      "├────┼──────────┼──────────────┼────────────┼────────┼─────────────────────┼──────────┼────────┤\n",
      "│ 35 │ B5Z2U1ND │ Entiremiscel │          8 │  40000 │ 2024-05-19 07:48:57 │ car      │ odd    │\n",
      "├────┼──────────┼──────────────┼────────────┼────────┼─────────────────────┼──────────┼────────┤\n",
      "│ 36 │ B2R7W9JD │ Immutableinl │          1 │   5000 │ 2024-05-19 07:48:57 │ car      │ odd    │\n",
      "├────┼──────────┼──────────────┼────────────┼────────┼─────────────────────┼──────────┼────────┤\n",
      "│ 37 │ B9X4P1NF │ Nasaldrop    │         10 │  50000 │ 2024-05-19 07:48:58 │ car      │ odd    │\n",
      "├────┼──────────┼──────────────┼────────────┼────────┼─────────────────────┼──────────┼────────┤\n",
      "│ 38 │ B1D8W7ME │ Meaninglessb │          9 │  45000 │ 2024-05-19 07:48:58 │ car      │ odd    │\n",
      "├────┼──────────┼──────────────┼────────────┼────────┼─────────────────────┼──────────┼────────┤\n",
      "│ 39 │ B8P5F3TA │ Unfulfilledi │          1 │   5000 │ 2024-05-19 07:48:58 │ car      │ odd    │\n",
      "├────┼──────────┼──────────────┼────────────┼────────┼─────────────────────┼──────────┼────────┤\n",
      "│ 40 │ B5H1W3ZI │ Drunkencutic │          3 │  15000 │ 2024-05-19 07:49:12 │ car      │ odd    │\n",
      "├────┼──────────┼──────────────┼────────────┼────────┼─────────────────────┼──────────┼────────┤\n",
      "│ 41 │ B2B4F7XC │ Futuristiccr │          2 │  10000 │ 2024-05-19 07:49:12 │ car      │ odd    │\n",
      "├────┼──────────┼──────────────┼────────────┼────────┼─────────────────────┼──────────┼────────┤\n",
      "│ 42 │ B1R8N3XB │ Reliablepert │          1 │   5000 │ 2024-05-19 07:49:12 │ car      │ odd    │\n",
      "├────┼──────────┼──────────────┼────────────┼────────┼─────────────────────┼──────────┼────────┤\n",
      "│ 43 │ B8Z1N4KA │ Tastymassacr │          9 │  45000 │ 2024-05-19 07:49:12 │ car      │ even   │\n",
      "├────┼──────────┼──────────────┼────────────┼────────┼─────────────────────┼──────────┼────────┤\n",
      "│ 44 │ B8Z1N4KA │ Post-worldto │          2 │  10000 │ 2024-05-19 07:49:12 │ car      │ even   │\n",
      "├────┼──────────┼──────────────┼────────────┼────────┼─────────────────────┼──────────┼────────┤\n",
      "│ 45 │ B8K1X4WG │ Requisitetyp │          6 │  30000 │ 2024-05-19 07:49:13 │ car      │ even   │\n",
      "├────┼──────────┼──────────────┼────────────┼────────┼─────────────────────┼──────────┼────────┤\n",
      "│ 46 │ B2V4C8PC │ Frontalsecti │          4 │  20000 │ 2024-05-19 07:49:13 │ car      │ even   │\n",
      "├────┼──────────┼──────────────┼────────────┼────────┼─────────────────────┼──────────┼────────┤\n",
      "│ 47 │ B8G2S5UF │ Southeastern │          1 │   5000 │ 2024-05-19 07:49:13 │ car      │ odd    │\n",
      "├────┼──────────┼──────────────┼────────────┼────────┼─────────────────────┼──────────┼────────┤\n",
      "│ 48 │ B9X2W7VE │ Present-daym │          1 │   5000 │ 2024-05-19 07:49:13 │ car      │ odd    │\n",
      "├────┼──────────┼──────────────┼────────────┼────────┼─────────────────────┼──────────┼────────┤\n",
      "│ 49 │ B1S8U5RD │ Scantbeauty  │         10 │  50000 │ 2024-05-19 07:49:13 │ car      │ odd    │\n",
      "├────┼──────────┼──────────────┼────────────┼────────┼─────────────────────┼──────────┼────────┤\n",
      "│ 50 │ B1H9V5RH │ Varyingdebas │          4 │  20000 │ 2024-05-19 07:49:24 │ car      │ odd    │\n",
      "├────┼──────────┼──────────────┼────────────┼────────┼─────────────────────┼──────────┼────────┤\n",
      "│ 51 │ B8H3U9PA │ Stained-glas │         10 │  50000 │ 2024-05-19 07:49:24 │ car      │ odd    │\n",
      "├────┼──────────┼──────────────┼────────────┼────────┼─────────────────────┼──────────┼────────┤\n",
      "│ 52 │ B3C5V7SA │ Incompatible │          3 │  15000 │ 2024-05-19 07:49:25 │ car      │ odd    │\n",
      "├────┼──────────┼──────────────┼────────────┼────────┼─────────────────────┼──────────┼────────┤\n",
      "│ 53 │ B2P7U5SA │ Unpopularche │          2 │  10000 │ 2024-05-19 07:49:25 │ car      │ odd    │\n",
      "├────┼──────────┼──────────────┼────────────┼────────┼─────────────────────┼──────────┼────────┤\n",
      "│ 54 │ B4B7X8DE │ Triteelongat │          6 │  30000 │ 2024-05-19 07:49:25 │ car      │ even   │\n",
      "├────┼──────────┼──────────────┼────────────┼────────┼─────────────────────┼──────────┼────────┤\n",
      "│ 55 │ B4W3T9SA │ Indecentspot │          9 │  45000 │ 2024-05-19 07:49:25 │ car      │ odd    │\n",
      "├────┼──────────┼──────────────┼────────────┼────────┼─────────────────────┼──────────┼────────┤\n",
      "│ 56 │ B5E2H8VA │ Intentionale │          8 │  40000 │ 2024-05-19 07:49:26 │ car      │ even   │\n",
      "├────┼──────────┼──────────────┼────────────┼────────┼─────────────────────┼──────────┼────────┤\n",
      "│ 57 │ B2P7U5SA │ Mechanicalmi │          8 │  40000 │ 2024-05-19 07:49:26 │ car      │ odd    │\n",
      "├────┼──────────┼──────────────┼────────────┼────────┼─────────────────────┼──────────┼────────┤\n",
      "│ 58 │ B2X4V9RA │ Murderedswee │          2 │  10000 │ 2024-05-19 07:49:26 │ car      │ odd    │\n",
      "├────┼──────────┼──────────────┼────────────┼────────┼─────────────────────┼──────────┼────────┤\n",
      "│ 59 │ B1D8W7ME │ Unsettledtem │         10 │  50000 │ 2024-05-19 07:49:26 │ car      │ odd    │\n",
      "├────┼──────────┼──────────────┼────────────┼────────┼─────────────────────┼──────────┼────────┤\n",
      "│ 60 │ B3C5V7SA │ Genialmicrob │          5 │  25000 │ 2024-05-19 07:49:36 │ car      │ odd    │\n",
      "├────┼──────────┼──────────────┼────────────┼────────┼─────────────────────┼──────────┼────────┤\n",
      "│ 61 │ B5Z1M7CA │ Intelligible │          9 │  45000 │ 2024-05-19 07:49:36 │ car      │ odd    │\n",
      "├────┼──────────┼──────────────┼────────────┼────────┼─────────────────────┼──────────┼────────┤\n",
      "│ 62 │ B2X4V5TH │ Reticentdisc │          8 │  40000 │ 2024-05-19 07:49:36 │ car      │ odd    │\n",
      "├────┼──────────┼──────────────┼────────────┼────────┼─────────────────────┼──────────┼────────┤\n",
      "│ 63 │ B7J8Z5TB │ Figurativewa │          1 │   5000 │ 2024-05-19 07:49:36 │ car      │ odd    │\n",
      "├────┼──────────┼──────────────┼────────────┼────────┼─────────────────────┼──────────┼────────┤\n",
      "│ 64 │ B1N3U8ME │ Renewedbriga │          8 │  40000 │ 2024-05-19 07:49:36 │ car      │ even   │\n",
      "├────┼──────────┼──────────────┼────────────┼────────┼─────────────────────┼──────────┼────────┤\n",
      "│ 65 │ B9Z3K7XA │ Cloudyheaddr │         10 │  50000 │ 2024-05-19 07:49:36 │ car      │ odd    │\n",
      "├────┼──────────┼──────────────┼────────────┼────────┼─────────────────────┼──────────┼────────┤\n",
      "│ 66 │ B2K7H4XF │ Jumpyblister │          2 │  10000 │ 2024-05-19 07:49:36 │ car      │ even   │\n",
      "├────┼──────────┼──────────────┼────────────┼────────┼─────────────────────┼──────────┼────────┤\n",
      "│ 67 │ B2X4V9RA │ Cut-rateskir │          3 │  15000 │ 2024-05-19 07:49:36 │ car      │ odd    │\n",
      "├────┼──────────┼──────────────┼────────────┼────────┼─────────────────────┼──────────┼────────┤\n",
      "│ 68 │ B8P2D3XI │ Lordlysynthe │          8 │  40000 │ 2024-05-19 07:49:37 │ car      │ odd    │\n",
      "├────┼──────────┼──────────────┼────────────┼────────┼─────────────────────┼──────────┼────────┤\n",
      "│ 69 │ B5P9V2NC │ Saltysuperpo │          5 │  25000 │ 2024-05-19 07:49:37 │ car      │ even   │\n",
      "├────┼──────────┼──────────────┼────────────┼────────┼─────────────────────┼──────────┼────────┤\n",
      "│ 70 │ B8P5F3TA │ Famoustroika │          4 │  20000 │ 2024-05-19 07:49:43 │ car      │ odd    │\n",
      "├────┼──────────┼──────────────┼────────────┼────────┼─────────────────────┼──────────┼────────┤\n",
      "│ 71 │ B4K7N1SH │ Gloriousjay  │          2 │  10000 │ 2024-05-19 07:49:44 │ car      │ odd    │\n",
      "├────┼──────────┼──────────────┼────────────┼────────┼─────────────────────┼──────────┼────────┤\n",
      "│ 72 │ B6J8H3RA │ Guaranteedvi │          3 │  15000 │ 2024-05-19 07:49:44 │ car      │ odd    │\n",
      "├────┼──────────┼──────────────┼────────────┼────────┼─────────────────────┼──────────┼────────┤\n",
      "│ 73 │ B7J8Z5TB │ Enticingconv │          4 │  20000 │ 2024-05-19 07:49:44 │ car      │ odd    │\n",
      "├────┼──────────┼──────────────┼────────────┼────────┼─────────────────────┼──────────┼────────┤\n",
      "│ 74 │ B9X2N5SA │ Grimcuff     │         10 │  50000 │ 2024-05-19 07:49:44 │ car      │ odd    │\n",
      "├────┼──────────┼──────────────┼────────────┼────────┼─────────────────────┼──────────┼────────┤\n",
      "│ 75 │ B6F3P1RH │ Bereftsponge │          8 │  40000 │ 2024-05-19 07:49:44 │ car      │ odd    │\n",
      "├────┼──────────┼──────────────┼────────────┼────────┼─────────────────────┼──────────┼────────┤\n",
      "│ 76 │ B5S7U8TB │ Intensifiedj │          5 │  25000 │ 2024-05-19 07:49:45 │ car      │ even   │\n",
      "├────┼──────────┼──────────────┼────────────┼────────┼─────────────────────┼──────────┼────────┤\n",
      "│ 77 │ B4F7H1MC │ Learnedivy   │          1 │   5000 │ 2024-05-19 07:49:45 │ car      │ odd    │\n",
      "├────┼──────────┼──────────────┼────────────┼────────┼─────────────────────┼──────────┼────────┤\n",
      "│ 78 │ B5E2H8VA │ Mintvoltage  │          4 │  20000 │ 2024-05-19 07:49:45 │ car      │ even   │\n",
      "├────┼──────────┼──────────────┼────────────┼────────┼─────────────────────┼──────────┼────────┤\n",
      "│ 79 │ B5P9V2NC │ Rotatinggurn │          2 │  10000 │ 2024-05-19 07:49:45 │ car      │ even   │\n",
      "├────┼──────────┼──────────────┼────────────┼────────┼─────────────────────┼──────────┼────────┤\n",
      "│ 80 │ B1H9V5RH │ Meatycomplai │          3 │  15000 │ 2024-05-19 07:50:01 │ car      │ odd    │\n",
      "├────┼──────────┼──────────────┼────────────┼────────┼─────────────────────┼──────────┼────────┤\n",
      "│ 81 │ B9C4X5VA │ Self-support │          3 │  15000 │ 2024-05-19 07:50:01 │ car      │ odd    │\n",
      "├────┼──────────┼──────────────┼────────────┼────────┼─────────────────────┼──────────┼────────┤\n",
      "│ 82 │ B5S7U8TB │ Conceivablet │          1 │   5000 │ 2024-05-19 07:50:01 │ car      │ even   │\n",
      "├────┼──────────┼──────────────┼────────────┼────────┼─────────────────────┼──────────┼────────┤\n",
      "│ 83 │ B5P9V2NC │ Circulatingf │         10 │  50000 │ 2024-05-19 07:50:01 │ car      │ even   │\n",
      "├────┼──────────┼──────────────┼────────────┼────────┼─────────────────────┼──────────┼────────┤\n",
      "│ 84 │ B5F2J9XF │ Unendinghome │          6 │  30000 │ 2024-05-19 07:50:01 │ car      │ odd    │\n",
      "├────┼──────────┼──────────────┼────────────┼────────┼─────────────────────┼──────────┼────────┤\n",
      "│ 85 │ B8C2X4VE │ Geneticdepar │          2 │  10000 │ 2024-05-19 07:50:01 │ car      │ even   │\n",
      "├────┼──────────┼──────────────┼────────────┼────────┼─────────────────────┼──────────┼────────┤\n",
      "│ 86 │ B6J8H3RA │ Liberatingch │          7 │  35000 │ 2024-05-19 07:50:01 │ car      │ odd    │\n",
      "├────┼──────────┼──────────────┼────────────┼────────┼─────────────────────┼──────────┼────────┤\n",
      "│ 87 │ B2G6K4XH │ Embroideredj │          5 │  25000 │ 2024-05-19 07:50:02 │ car      │ even   │\n",
      "├────┼──────────┼──────────────┼────────────┼────────┼─────────────────────┼──────────┼────────┤\n",
      "│ 88 │ B8P5F3TA │ Namelessturn │          4 │  20000 │ 2024-05-19 07:50:02 │ car      │ odd    │\n",
      "├────┼──────────┼──────────────┼────────────┼────────┼─────────────────────┼──────────┼────────┤\n",
      "│ 89 │ B6U2H9RC │ Funnyturntab │          6 │  30000 │ 2024-05-19 07:50:02 │ car      │ odd    │\n",
      "├────┼──────────┼──────────────┼────────────┼────────┼─────────────────────┼──────────┼────────┤\n",
      "│ 90 │ B5M2W3CI │ Inimicalpat  │          2 │  10000 │ 2024-05-19 07:50:06 │ car      │ odd    │\n",
      "├────┼──────────┼──────────────┼────────────┼────────┼─────────────────────┼──────────┼────────┤\n",
      "│ 91 │ B8H3U9PA │ Advisablever │          3 │  15000 │ 2024-05-19 07:50:06 │ car      │ odd    │\n",
      "├────┼──────────┼──────────────┼────────────┼────────┼─────────────────────┼──────────┼────────┤\n",
      "│ 92 │ B4Z2K7DA │ Mildonslaugh │          5 │  25000 │ 2024-05-19 07:50:06 │ car      │ odd    │\n",
      "├────┼──────────┼──────────────┼────────────┼────────┼─────────────────────┼──────────┼────────┤\n",
      "│ 93 │ B3T2P7MA │ Mass-produce │          9 │  45000 │ 2024-05-19 07:50:07 │ car      │ odd    │\n",
      "├────┼──────────┼──────────────┼────────────┼────────┼─────────────────────┼──────────┼────────┤\n",
      "│ 94 │ B8Z1N4KA │ Idiosyncrati │          1 │   5000 │ 2024-05-19 07:50:07 │ car      │ even   │\n",
      "├────┼──────────┼──────────────┼────────────┼────────┼─────────────────────┼──────────┼────────┤\n",
      "│ 95 │ B4F7H1MC │ Enragedillus │          3 │  15000 │ 2024-05-19 07:50:07 │ car      │ odd    │\n",
      "├────┼──────────┼──────────────┼────────────┼────────┼─────────────────────┼──────────┼────────┤\n",
      "│ 96 │ B2G6K4XH │ Rebelliousco │          6 │  30000 │ 2024-05-19 07:50:07 │ car      │ even   │\n",
      "├────┼──────────┼──────────────┼────────────┼────────┼─────────────────────┼──────────┼────────┤\n",
      "│ 97 │ B1S8U5RD │ Blessedenter │          4 │  20000 │ 2024-05-19 07:50:07 │ car      │ odd    │\n",
      "├────┼──────────┼──────────────┼────────────┼────────┼─────────────────────┼──────────┼────────┤\n",
      "│ 98 │ B6P2Z4UA │ Recordedbloa │          3 │  15000 │ 2024-05-19 07:50:07 │ car      │ even   │\n",
      "├────┼──────────┼──────────────┼────────────┼────────┼─────────────────────┼──────────┼────────┤\n",
      "│ 99 │ B6P2Z4UA │ Unaccountabl │          7 │  35000 │ 2024-05-19 07:50:07 │ car      │ even   │\n",
      "╘════╧══════════╧══════════════╧════════════╧════════╧═════════════════════╧══════════╧════════╛\n"
     ]
    }
   ],
   "source": [
    "# Menampilkan hasil data yang mudah di baca\n",
    "df_merge = df_merge.withColumn(\"createdAt\", date_format(df_merge[\"createdAt\"], \"yyyy-MM-dd HH:mm:ss\"))\n",
    "tabulate_df = df_merge.select(\"plate\", \"username\", \"hourStay\", \"cost\", \"createdAt\", \"source\", \"type\").toPandas()\n",
    "\n",
    "print(tabulate(tabulate_df.head(100), headers='keys', tablefmt='fancy_grid'))"
   ]
  },
  {
   "cell_type": "code",
   "execution_count": 257,
   "metadata": {},
   "outputs": [
    {
     "name": "stdout",
     "output_type": "stream",
     "text": [
      "Jumlah odd type car dari df_merge: 70\n",
      "Jumlah even type car dari df_merge: 30\n"
     ]
    }
   ],
   "source": [
    "# Menghitung jumlah odd dan even type car dari df_merge\n",
    "odd_count = df_merge.filter(col(\"type\") == \"odd\").count()\n",
    "even_count = df_merge.filter(col(\"type\") == \"even\").count()\n",
    "\n",
    "print(\"Jumlah odd type car dari df_merge:\", odd_count)\n",
    "print(\"Jumlah even type car dari df_merge:\", even_count)"
   ]
  },
  {
   "cell_type": "code",
   "execution_count": 258,
   "metadata": {},
   "outputs": [
    {
     "name": "stdout",
     "output_type": "stream",
     "text": [
      "Total cost plat kendaraan dengan type 'odd': 1835000\n",
      "Total cost plat kendaraan dengan type 'even': 795000\n"
     ]
    }
   ],
   "source": [
    "# Menghitung total cost plat kendaraan dengan type 'odd'\n",
    "total_cost_odd = df_merge.filter(df_merge['type'] == 'odd').agg(F.sum('cost').alias('total_cost_odd')).collect()[0]['total_cost_odd']\n",
    "\n",
    "# Menghitung total cost plat kendaraan dengan type 'even'\n",
    "total_cost_even = df_merge.filter(df_merge['type'] == 'even').agg(F.sum('cost').alias('total_cost_even')).collect()[0]['total_cost_even']\n",
    "\n",
    "print(\"Total cost plat kendaraan dengan type 'odd':\", total_cost_odd)\n",
    "print(\"Total cost plat kendaraan dengan type 'even':\", total_cost_even)"
   ]
  },
  {
   "cell_type": "code",
   "execution_count": 259,
   "metadata": {},
   "outputs": [
    {
     "name": "stdout",
     "output_type": "stream",
     "text": [
      "Total hourStay: 526\n"
     ]
    }
   ],
   "source": [
    "# Menghitung total hourStay\n",
    "total_hourStay = df_merge.agg(F.sum('hourStay').alias('total_hourStay')).collect()[0]['total_hourStay']\n",
    "\n",
    "print(\"Total hourStay:\", total_hourStay)"
   ]
  },
  {
   "cell_type": "code",
   "execution_count": 260,
   "metadata": {},
   "outputs": [
    {
     "name": "stdout",
     "output_type": "stream",
     "text": [
      "Rata-rata hourStay: 5.26\n",
      "Rata-rata cost: 26300.0\n"
     ]
    }
   ],
   "source": [
    "# Rata-rata hourStay dan cost\n",
    "avg_hourStay = df_merge.agg(F.avg('hourStay').alias('avg_hourStay')).collect()[0]['avg_hourStay']\n",
    "avg_cost = df_merge.agg(F.avg('cost').alias('avg_cost')).collect()[0]['avg_cost']\n",
    "\n",
    "print(\"Rata-rata hourStay:\", avg_hourStay)\n",
    "print(\"Rata-rata cost:\", avg_cost)"
   ]
  },
  {
   "cell_type": "code",
   "execution_count": 261,
   "metadata": {},
   "outputs": [
    {
     "name": "stdout",
     "output_type": "stream",
     "text": [
      "Plat kendaraan dengan hourStay tertinggi: B8Z1N4KA\n"
     ]
    }
   ],
   "source": [
    "# Plat kendaraan dengan hourStay tertinggi\n",
    "max_hourStay_plate = df_merge.groupBy('plate').agg(F.sum('hourStay').alias('total_hourStay')).orderBy('total_hourStay', ascending=False).first()['plate']\n",
    "print(\"Plat kendaraan dengan hourStay tertinggi:\", max_hourStay_plate)"
   ]
  },
  {
   "cell_type": "code",
   "execution_count": 262,
   "metadata": {},
   "outputs": [
    {
     "name": "stdout",
     "output_type": "stream",
     "text": [
      "Distribusi hourStay:\n",
      "+--------+-----+\n",
      "|hourStay|count|\n",
      "+--------+-----+\n",
      "|       1|   12|\n",
      "|       2|   10|\n",
      "|       3|   15|\n",
      "|       4|    9|\n",
      "|       5|    7|\n",
      "|       6|   10|\n",
      "|       7|    8|\n",
      "|       8|    9|\n",
      "|       9|   10|\n",
      "|      10|   10|\n",
      "+--------+-----+\n",
      "\n"
     ]
    }
   ],
   "source": [
    "# Distribusi hourStay dan cost\n",
    "hourStay_distribution = df_merge.groupBy('hourStay').count().orderBy('hourStay')\n",
    "cost_distribution = df_merge.groupBy('cost').count().orderBy('cost')\n",
    "\n",
    "print(\"Distribusi hourStay:\")\n",
    "hourStay_distribution.show()"
   ]
  },
  {
   "cell_type": "code",
   "execution_count": 263,
   "metadata": {},
   "outputs": [
    {
     "name": "stdout",
     "output_type": "stream",
     "text": [
      "Biaya parkir rata-rata per jam: 5000.0\n"
     ]
    }
   ],
   "source": [
    "# Biaya parkir rata-rata per jam\n",
    "avg_cost_per_hour = df_merge.agg((F.sum('cost') / F.sum('hourStay')).alias('avg_cost_per_hour')).collect()[0]['avg_cost_per_hour']\n",
    "print(\"Biaya parkir rata-rata per jam:\", avg_cost_per_hour)"
   ]
  },
  {
   "cell_type": "code",
   "execution_count": 264,
   "metadata": {},
   "outputs": [
    {
     "name": "stdout",
     "output_type": "stream",
     "text": [
      "Analisis perbandingan antara plat kendaraan:\n",
      "+--------+--------------+----------+\n",
      "|   plate|total_hourStay|total_cost|\n",
      "+--------+--------------+----------+\n",
      "|B8Z1N4KA|            26|    130000|\n",
      "|B1S8U5RD|            22|    110000|\n",
      "|B5P9V2NC|            20|    100000|\n",
      "|B9X4P1NF|            20|    100000|\n",
      "|B3C5V7SA|            19|     95000|\n",
      "|B1D8W7ME|            19|     95000|\n",
      "|B2X4V5TH|            17|     85000|\n",
      "|B5S7U8TB|            16|     80000|\n",
      "|B1N3U8ME|            15|     75000|\n",
      "|B8H3U9PA|            13|     65000|\n",
      "+--------+--------------+----------+\n",
      "only showing top 10 rows\n",
      "\n"
     ]
    }
   ],
   "source": [
    "# Analisis perbandingan antara plat kendaraan\n",
    "comparison = df_merge.groupBy('plate').agg(F.sum('hourStay').alias('total_hourStay'), F.sum('cost').alias('total_cost')).orderBy('total_hourStay', ascending=False)\n",
    "print(\"Analisis perbandingan antara plat kendaraan:\")\n",
    "comparison.show(10)"
   ]
  },
  {
   "cell_type": "code",
   "execution_count": 265,
   "metadata": {},
   "outputs": [
    {
     "name": "stdout",
     "output_type": "stream",
     "text": [
      "Tren parkir dari waktu ke waktu:\n",
      "+-------------------+-----+\n",
      "|          createdAt|count|\n",
      "+-------------------+-----+\n",
      "|2024-05-19 07:47:17|    4|\n",
      "|2024-05-19 07:47:18|    6|\n",
      "|2024-05-19 07:48:07|    1|\n",
      "|2024-05-19 07:48:08|    7|\n",
      "|2024-05-19 07:48:09|    2|\n",
      "|2024-05-19 07:48:41|    2|\n",
      "|2024-05-19 07:48:42|    5|\n",
      "|2024-05-19 07:48:43|    3|\n",
      "|2024-05-19 07:48:56|    3|\n",
      "|2024-05-19 07:48:57|    4|\n",
      "+-------------------+-----+\n",
      "only showing top 10 rows\n",
      "\n"
     ]
    }
   ],
   "source": [
    "# Tren parkir dari waktu ke waktu\n",
    "parking_trend = df_merge.groupBy('createdAt').count().orderBy('createdAt')\n",
    "print(\"Tren parkir dari waktu ke waktu:\")\n",
    "parking_trend.show(10)"
   ]
  },
  {
   "cell_type": "code",
   "execution_count": 266,
   "metadata": {},
   "outputs": [
    {
     "name": "stdout",
     "output_type": "stream",
     "text": [
      "Korelasi antara hourStay dan cost: 1.0000000000000002\n"
     ]
    }
   ],
   "source": [
    "# Korelasi antara hourStay dan cost\n",
    "correlation = df_merge.corr('hourStay', 'cost')\n",
    "print(\"Korelasi antara hourStay dan cost:\", correlation)"
   ]
  },
  {
   "cell_type": "code",
   "execution_count": 267,
   "metadata": {},
   "outputs": [
    {
     "name": "stdout",
     "output_type": "stream",
     "text": [
      "+--------+--------------+\n",
      "|   plate|total_hourStay|\n",
      "+--------+--------------+\n",
      "|B6P2Z4UA|            10|\n",
      "|B3P9Z1CE|            10|\n",
      "|B6R1T7NE|             5|\n",
      "|B3S8Z2UD|             7|\n",
      "|B2X4V9RA|             5|\n",
      "|B5M2W3CI|             2|\n",
      "|B8P5F3TA|            13|\n",
      "|B3C5V7SA|            19|\n",
      "|B1H9V5RH|            13|\n",
      "|B1N3U8ME|            15|\n",
      "+--------+--------------+\n",
      "only showing top 10 rows\n",
      "\n"
     ]
    }
   ],
   "source": [
    "# Menghitung total hourStay dari masing-masing plat kendaraan\n",
    "total_hourStay_per_plate = df_merge.groupBy('plate').agg(F.sum('hourStay').alias('total_hourStay'))\n",
    "\n",
    "# Menampilkan total_hourStay dari masing-masing plat kendaraan\n",
    "total_hourStay_per_plate.show(10)"
   ]
  },
  {
   "cell_type": "markdown",
   "metadata": {},
   "source": [
    "### SPARK MACHINE LEARNING"
   ]
  },
  {
   "cell_type": "code",
   "execution_count": 268,
   "metadata": {},
   "outputs": [],
   "source": [
    "from pyspark.ml.feature import VectorAssembler\n",
    "from pyspark.ml.regression import LinearRegression\n",
    "from pyspark.ml.evaluation import RegressionEvaluator"
   ]
  },
  {
   "cell_type": "markdown",
   "metadata": {},
   "source": [
    "##### Vektor"
   ]
  },
  {
   "cell_type": "code",
   "execution_count": 269,
   "metadata": {},
   "outputs": [],
   "source": [
    "# Membuat vektor fitur\n",
    "assembler = VectorAssembler(inputCols=[\"hourStay\"], outputCol=\"features\")\n",
    "df_merge = assembler.transform(df_merge)"
   ]
  },
  {
   "cell_type": "markdown",
   "metadata": {},
   "source": [
    "##### Preprocessing"
   ]
  },
  {
   "cell_type": "code",
   "execution_count": 270,
   "metadata": {},
   "outputs": [],
   "source": [
    "# Bagi data menjadi set pelatihan dan set pengujian\n",
    "(train_data, test_data) = df_merge.randomSplit([0.8, 0.2], seed=42)"
   ]
  },
  {
   "cell_type": "code",
   "execution_count": 271,
   "metadata": {},
   "outputs": [],
   "source": [
    "# Inisialisasi model Regresi Linear\n",
    "lr = LinearRegression(featuresCol=\"features\", labelCol=\"cost\")"
   ]
  },
  {
   "cell_type": "code",
   "execution_count": 272,
   "metadata": {},
   "outputs": [],
   "source": [
    "# Latih model\n",
    "lr_model = lr.fit(train_data)"
   ]
  },
  {
   "cell_type": "markdown",
   "metadata": {},
   "source": [
    "##### Evaluate model"
   ]
  },
  {
   "cell_type": "code",
   "execution_count": 273,
   "metadata": {},
   "outputs": [],
   "source": [
    "# Prediksi pada set pengujian\n",
    "predictions = lr_model.transform(test_data)"
   ]
  },
  {
   "cell_type": "code",
   "execution_count": 274,
   "metadata": {},
   "outputs": [
    {
     "name": "stdout",
     "output_type": "stream",
     "text": [
      "Mean Squared Error: 3.133554791083234e-23\n"
     ]
    }
   ],
   "source": [
    "# Evaluasi model menggunakan Mean Squared Error\n",
    "evaluator = RegressionEvaluator(labelCol=\"cost\", predictionCol=\"prediction\", metricName=\"mse\")\n",
    "mse = evaluator.evaluate(predictions)\n",
    "print(f\"Mean Squared Error: {mse}\")"
   ]
  },
  {
   "cell_type": "markdown",
   "metadata": {},
   "source": [
    "##### Test result "
   ]
  },
  {
   "cell_type": "code",
   "execution_count": 275,
   "metadata": {},
   "outputs": [
    {
     "name": "stdout",
     "output_type": "stream",
     "text": [
      "+--------+--------+-----+-----------------+\n",
      "|   plate|hourStay| cost|       prediction|\n",
      "+--------+--------+-----+-----------------+\n",
      "|B1H9V5RH|       6|30000|          30000.0|\n",
      "|B1N3U8ME|       7|35000|35000.00000000001|\n",
      "|B1R8N3XB|       1| 5000|4999.999999999989|\n",
      "|B2G6K4XH|       5|25000|          25000.0|\n",
      "|B2R7W9JD|       9|45000|45000.00000000001|\n",
      "+--------+--------+-----+-----------------+\n",
      "only showing top 5 rows\n",
      "\n"
     ]
    }
   ],
   "source": [
    "# Prediksi pada set pengujian\n",
    "predictions = lr_model.transform(test_data)\n",
    "\n",
    "# Menyimpan hasil prediksi ke dalam DataFrame baru\n",
    "predictions_df = predictions.select(\"plate\", \"hourStay\", \"cost\", \"prediction\")\n",
    "\n",
    "# Menampilkan hasil prediksi\n",
    "predictions_df.show(5)"
   ]
  }
 ],
 "metadata": {
  "kernelspec": {
   "display_name": "my_env",
   "language": "python",
   "name": "python3"
  },
  "language_info": {
   "codemirror_mode": {
    "name": "ipython",
    "version": 3
   },
   "file_extension": ".py",
   "mimetype": "text/x-python",
   "name": "python",
   "nbconvert_exporter": "python",
   "pygments_lexer": "ipython3",
   "version": "3.9.18"
  }
 },
 "nbformat": 4,
 "nbformat_minor": 2
}
