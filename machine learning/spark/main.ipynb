{
 "cells": [
  {
   "cell_type": "markdown",
   "metadata": {},
   "source": [
    "## PYSPARK"
   ]
  },
  {
   "cell_type": "markdown",
   "metadata": {},
   "source": [
    "### IMPORT LIBRARY FROM PYSPARK "
   ]
  },
  {
   "cell_type": "code",
   "execution_count": 107,
   "metadata": {},
   "outputs": [],
   "source": [
    "from pyspark.sql import SparkSession\n",
    "from pyspark.sql.functions import col"
   ]
  },
  {
   "cell_type": "markdown",
   "metadata": {},
   "source": [
    "### INIT SESSION SPARK "
   ]
  },
  {
   "cell_type": "code",
   "execution_count": 108,
   "metadata": {},
   "outputs": [],
   "source": [
    "# Inisialisasi sesi Spark\n",
    "spark = SparkSession.builder.appName(\"appbg\").getOrCreate()"
   ]
  },
  {
   "cell_type": "code",
   "execution_count": 109,
   "metadata": {},
   "outputs": [
    {
     "data": {
      "text/html": [
       "\n",
       "            <div>\n",
       "                <p><b>SparkSession - in-memory</b></p>\n",
       "                \n",
       "        <div>\n",
       "            <p><b>SparkContext</b></p>\n",
       "\n",
       "            <p><a href=\"http://MSI:4040\">Spark UI</a></p>\n",
       "\n",
       "            <dl>\n",
       "              <dt>Version</dt>\n",
       "                <dd><code>v3.5.1</code></dd>\n",
       "              <dt>Master</dt>\n",
       "                <dd><code>local[*]</code></dd>\n",
       "              <dt>AppName</dt>\n",
       "                <dd><code>appbg</code></dd>\n",
       "            </dl>\n",
       "        </div>\n",
       "        \n",
       "            </div>\n",
       "        "
      ],
      "text/plain": [
       "<pyspark.sql.session.SparkSession at 0x1fbdd6657c0>"
      ]
     },
     "execution_count": 109,
     "metadata": {},
     "output_type": "execute_result"
    }
   ],
   "source": [
    "spark"
   ]
  },
  {
   "cell_type": "markdown",
   "metadata": {},
   "source": [
    "### Merge Data"
   ]
  },
  {
   "cell_type": "code",
   "execution_count": 110,
   "metadata": {},
   "outputs": [],
   "source": [
    "# Baca file CSV pertama (data-user.csv)\n",
    "df_user = spark.read.csv(\"file:///_script\\_csv\\data-user.csv\", header=True, inferSchema=True)\n",
    "\n",
    "# Baca file CSV kedua (plat.csv)\n",
    "df_plat = spark.read.csv(\"file:///_script\\_csv\\data-plates.csv\", header=True, inferSchema=True)"
   ]
  },
  {
   "cell_type": "markdown",
   "metadata": {},
   "source": [
    "##### Cleansing"
   ]
  },
  {
   "cell_type": "code",
   "execution_count": 111,
   "metadata": {},
   "outputs": [],
   "source": [
    "df_user = df_user.withColumnRenamed(\"_id\", \"id\")\n",
    "df_user = df_user.withColumnRenamed(\"plateNumber\", \"plate\")\n",
    "\n",
    "df_plat = df_plat.withColumnRenamed(\"_id\", \"id\")"
   ]
  },
  {
   "cell_type": "code",
   "execution_count": 112,
   "metadata": {},
   "outputs": [
    {
     "name": "stdout",
     "output_type": "stream",
     "text": [
      "+--------------------+------------+--------------------+--------------------+--------+-----+--------+-------------------+--------------------+\n",
      "|                  id|    username|               email|      profilePicture|hourStay| cost|   plate|        phoneNumber|           createdAt|\n",
      "+--------------------+------------+--------------------+--------------------+--------+-----+--------+-------------------+--------------------+\n",
      "|6640195b43df89dc0...|Well-placeda|bernita99@hotmail...|https://picsum.ph...|       4|20000|B4W3T9S1|(861) 213-9322 x777|2024-05-12 01:20:...|\n",
      "|6640195b43df89dc0...|Duskysuperhi|felicita42@yahoo.com|https://picsum.ph...|       7|35000|B8C2X4V5|       794-485-6055|2024-05-12 01:20:...|\n",
      "|6640195c43df89dc0...|Rapidspatula|macie.kemmer29@ya...|https://picsum.ph...|       2|10000|B7J8Z5T2|1-700-810-0785 x142|2024-05-12 01:20:...|\n",
      "|6640195c43df89dc0...|Riotousgamet|cordia30@hotmail.com|https://picsum.ph...|       4|20000|B6J1W4T9|     (287) 811-3914|2024-05-12 01:20:...|\n",
      "|6640195c43df89dc0...|Crudeclipper|cassidy85@hotmail...|https://picsum.ph...|       4|20000|B7W9N3T2|748-451-3798 x47215|2024-05-12 01:20:...|\n",
      "+--------------------+------------+--------------------+--------------------+--------+-----+--------+-------------------+--------------------+\n",
      "only showing top 5 rows\n",
      "\n"
     ]
    }
   ],
   "source": [
    "df_user.show(5)"
   ]
  },
  {
   "cell_type": "code",
   "execution_count": 113,
   "metadata": {},
   "outputs": [
    {
     "name": "stdout",
     "output_type": "stream",
     "text": [
      "+--------------------+--------+----------+\n",
      "|                  id|   plate|    source|\n",
      "+--------------------+--------+----------+\n",
      "|6646db6ff89c18be7...|B3O23KEZ|motorcycle|\n",
      "|6646db6ff89c18be7...|B3A4R5U2|motorcycle|\n",
      "|6646db6ff89c18be7...|B8C2X4V5|motorcycle|\n",
      "|6646db6ff89c18be7...|B1M3U8R7|motorcycle|\n",
      "|6646db6ff89c18be7...|B5M2W3C9|motorcycle|\n",
      "+--------------------+--------+----------+\n",
      "only showing top 5 rows\n",
      "\n"
     ]
    }
   ],
   "source": [
    "df_plat.show(5)"
   ]
  },
  {
   "cell_type": "code",
   "execution_count": 114,
   "metadata": {},
   "outputs": [],
   "source": [
    "df_merge = df_user.join(df_plat, \"plate\")"
   ]
  },
  {
   "cell_type": "code",
   "execution_count": 115,
   "metadata": {},
   "outputs": [
    {
     "name": "stdout",
     "output_type": "stream",
     "text": [
      "+--------+--------------------+------------+--------------------+--------------------+--------+-----+-------------------+--------------------+--------------------+----------+\n",
      "|   plate|                  id|    username|               email|      profilePicture|hourStay| cost|        phoneNumber|           createdAt|                  id|    source|\n",
      "+--------+--------------------+------------+--------------------+--------------------+--------+-----+-------------------+--------------------+--------------------+----------+\n",
      "|B4W3T9S1|6640195b43df89dc0...|Well-placeda|bernita99@hotmail...|https://picsum.ph...|       4|20000|(861) 213-9322 x777|2024-05-12 01:20:...|6646db6ff89c18be7...|motorcycle|\n",
      "|B8C2X4V5|6640195b43df89dc0...|Duskysuperhi|felicita42@yahoo.com|https://picsum.ph...|       7|35000|       794-485-6055|2024-05-12 01:20:...|6646db6ff89c18be7...|motorcycle|\n",
      "|B7J8Z5T2|6640195c43df89dc0...|Rapidspatula|macie.kemmer29@ya...|https://picsum.ph...|       2|10000|1-700-810-0785 x142|2024-05-12 01:20:...|6646db6ff89c18be7...|motorcycle|\n",
      "|B6J1W4T9|6640195c43df89dc0...|Riotousgamet|cordia30@hotmail.com|https://picsum.ph...|       4|20000|     (287) 811-3914|2024-05-12 01:20:...|6646db6ff89c18be7...|motorcycle|\n",
      "|B7W9N3T2|6640195c43df89dc0...|Crudeclipper|cassidy85@hotmail...|https://picsum.ph...|       4|20000|748-451-3798 x47215|2024-05-12 01:20:...|6646db6ff89c18be7...|motorcycle|\n",
      "+--------+--------------------+------------+--------------------+--------------------+--------+-----+-------------------+--------------------+--------------------+----------+\n",
      "only showing top 5 rows\n",
      "\n"
     ]
    }
   ],
   "source": [
    "# Menampilkan hasil data yang sudah di gabungkan \n",
    "df_merge.show(5)"
   ]
  },
  {
   "cell_type": "markdown",
   "metadata": {},
   "source": [
    "### SPARK MACHINE LEARNING"
   ]
  },
  {
   "cell_type": "code",
   "execution_count": 116,
   "metadata": {},
   "outputs": [],
   "source": [
    "from pyspark.ml.feature import VectorAssembler\n",
    "from pyspark.ml.regression import LinearRegression\n",
    "from pyspark.ml.evaluation import RegressionEvaluator"
   ]
  },
  {
   "cell_type": "markdown",
   "metadata": {},
   "source": [
    "##### Vektor"
   ]
  },
  {
   "cell_type": "code",
   "execution_count": 117,
   "metadata": {},
   "outputs": [],
   "source": [
    "# Membuat vektor fitur\n",
    "assembler = VectorAssembler(inputCols=[\"hourStay\"], outputCol=\"features\")\n",
    "df_merge = assembler.transform(df_merge)"
   ]
  },
  {
   "cell_type": "markdown",
   "metadata": {},
   "source": [
    "##### Preprocessing"
   ]
  },
  {
   "cell_type": "code",
   "execution_count": 118,
   "metadata": {},
   "outputs": [],
   "source": [
    "# Bagi data menjadi set pelatihan dan set pengujian\n",
    "(train_data, test_data) = df_merge.randomSplit([0.8, 0.2], seed=42)"
   ]
  },
  {
   "cell_type": "code",
   "execution_count": 119,
   "metadata": {},
   "outputs": [],
   "source": [
    "# Inisialisasi model Regresi Linear\n",
    "lr = LinearRegression(featuresCol=\"features\", labelCol=\"cost\")"
   ]
  },
  {
   "cell_type": "code",
   "execution_count": 120,
   "metadata": {},
   "outputs": [],
   "source": [
    "# Latih model\n",
    "lr_model = lr.fit(train_data)"
   ]
  },
  {
   "cell_type": "markdown",
   "metadata": {},
   "source": [
    "##### Evaluate model"
   ]
  },
  {
   "cell_type": "code",
   "execution_count": 121,
   "metadata": {},
   "outputs": [],
   "source": [
    "# Prediksi pada set pengujian\n",
    "predictions = lr_model.transform(test_data)"
   ]
  },
  {
   "cell_type": "code",
   "execution_count": 122,
   "metadata": {},
   "outputs": [
    {
     "name": "stdout",
     "output_type": "stream",
     "text": [
      "Mean Squared Error: 5.307742263881927e-22\n"
     ]
    }
   ],
   "source": [
    "# Evaluasi model menggunakan Mean Squared Error\n",
    "evaluator = RegressionEvaluator(labelCol=\"cost\", predictionCol=\"prediction\", metricName=\"mse\")\n",
    "mse = evaluator.evaluate(predictions)\n",
    "print(f\"Mean Squared Error: {mse}\")"
   ]
  },
  {
   "cell_type": "markdown",
   "metadata": {},
   "source": [
    "##### Test result "
   ]
  },
  {
   "cell_type": "code",
   "execution_count": 123,
   "metadata": {},
   "outputs": [
    {
     "name": "stdout",
     "output_type": "stream",
     "text": [
      "+--------+--------+-----+------------------+\n",
      "|   plate|hourStay| cost|        prediction|\n",
      "+--------+--------+-----+------------------+\n",
      "|B1H9V5R8|       3|15000| 14999.99999999998|\n",
      "|B1S5R2M9|       3|15000| 14999.99999999998|\n",
      "|B1S8U5R4|      10|50000| 50000.00000000004|\n",
      "|B2R7W9J4|       2|10000|  9999.99999999997|\n",
      "|B2Z8R5V7|       1| 5000| 4999.999999999963|\n",
      "|B3K5H8Z7|       6|30000|30000.000000000007|\n",
      "|B4B7X2J6|      10|50000| 50000.00000000004|\n",
      "|B4K7N1S8|       7|35000|35000.000000000015|\n",
      "|B5F2J9X6|       7|35000|35000.000000000015|\n",
      "|B5F3V2M8|       6|30000|30000.000000000007|\n",
      "|B5H1W3Z9|       6|30000|30000.000000000007|\n",
      "|B5M2W3C9|       5|25000|24999.999999999996|\n",
      "|B5Z3X6J4|       7|35000|35000.000000000015|\n",
      "|B6F3C8S1|       9|45000| 45000.00000000003|\n",
      "|B6P2Z4U1|       3|15000| 14999.99999999998|\n",
      "|B6X2R9C1|       1| 5000| 4999.999999999963|\n",
      "|B8F3Z9W7|       7|35000|35000.000000000015|\n",
      "|B9X2N5S1|       7|35000|35000.000000000015|\n",
      "+--------+--------+-----+------------------+\n",
      "\n"
     ]
    }
   ],
   "source": [
    "# Prediksi pada set pengujian\n",
    "predictions = lr_model.transform(test_data)\n",
    "\n",
    "# Menyimpan hasil prediksi ke dalam DataFrame baru\n",
    "predictions_df = predictions.select(\"plate\", \"hourStay\", \"cost\", \"prediction\")\n",
    "\n",
    "# Menampilkan hasil prediksi\n",
    "predictions_df.show()"
   ]
  }
 ],
 "metadata": {
  "kernelspec": {
   "display_name": "my_env",
   "language": "python",
   "name": "python3"
  },
  "language_info": {
   "codemirror_mode": {
    "name": "ipython",
    "version": 3
   },
   "file_extension": ".py",
   "mimetype": "text/x-python",
   "name": "python",
   "nbconvert_exporter": "python",
   "pygments_lexer": "ipython3",
   "version": "3.9.18"
  }
 },
 "nbformat": 4,
 "nbformat_minor": 2
}
