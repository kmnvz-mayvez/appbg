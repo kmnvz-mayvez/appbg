{
 "cells": [
  {
   "cell_type": "markdown",
   "metadata": {},
   "source": [
    "# Transport elasitcsearch"
   ]
  },
  {
   "cell_type": "code",
   "execution_count": 6,
   "metadata": {},
   "outputs": [
    {
     "name": "stdout",
     "output_type": "stream",
     "text": [
      "Data sucess transport to elastic: 100\n"
     ]
    }
   ],
   "source": [
    "import json\n",
    "\n",
    "from elasticsearch import Elasticsearch\n",
    "from elasticsearch.helpers import bulk\n",
    "\n",
    "\n",
    "json_file_path = r'C:\\computing-service'\n",
    "es = Elasticsearch('http://elastic:@localhost:9200')\n",
    "\n",
    "with open(json_file_path, 'r') as json_file:\n",
    "    data = json.load(json_file)\n",
    "actions = [\n",
    "    {\n",
    "        \"_index\": \"plates\",\n",
    "        \"_source\": {\n",
    "            \"plate\": item[\"plate\"],\n",
    "            \"source\": item[\"source\"]\n",
    "        }\n",
    "    }\n",
    "    for item in data[\"plates\"]\n",
    "]\n",
    "\n",
    "success, _ = bulk(es, actions, index='_index', raise_on_error=True)\n",
    "print(f\"Data sucess transport to elastic: {success}\")"
   ]
  }
 ],
 "metadata": {
  "kernelspec": {
   "display_name": "my_env",
   "language": "python",
   "name": "python3"
  },
  "language_info": {
   "codemirror_mode": {
    "name": "ipython",
    "version": 3
   },
   "file_extension": ".py",
   "mimetype": "text/x-python",
   "name": "python",
   "nbconvert_exporter": "python",
   "pygments_lexer": "ipython3",
   "version": "3.9.18"
  }
 },
 "nbformat": 4,
 "nbformat_minor": 2
}
