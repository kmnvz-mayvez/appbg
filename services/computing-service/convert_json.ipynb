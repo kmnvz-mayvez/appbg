{
 "cells": [
  {
   "cell_type": "code",
   "execution_count": null,
   "metadata": {},
   "outputs": [],
   "source": [
    "import json\n",
    "\n",
    "file_path = r'C:\\computing-service'\n",
    "with open(file_path, 'r') as file:\n",
    "    lines = file.readlines()\n",
    "data = {'plates': []}\n",
    "for line in lines:\n",
    "    plate = line.strip()\n",
    "    data['plates'].append({'plate': plate, 'source': 'motorcycle'})\n",
    "\n",
    "json_file_path = r'C:\\computing-service'\n",
    "with open(json_file_path, 'w') as json_file:\n",
    "    json.dump(data, json_file, indent=4)\n",
    "\n",
    "print(\"File JSON create:\", json_file_path)"
   ]
  }
 ],
 "metadata": {
  "language_info": {
   "name": "python"
  }
 },
 "nbformat": 4,
 "nbformat_minor": 2
}
